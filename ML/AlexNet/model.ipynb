{
 "cells": [
  {
   "cell_type": "code",
   "execution_count": 1,
   "metadata": {},
   "outputs": [],
   "source": [
    "import torch\n",
    "import numpy as np\n",
    "import torch.functional as F\n",
    "import torch.nn as nn"
   ]
  },
  {
   "cell_type": "code",
   "execution_count": 25,
   "metadata": {},
   "outputs": [],
   "source": [
    "class AlexNet(nn.Module):\n",
    "    \n",
    "    def __init__(self):\n",
    "        super(AlexNet, self).__init__()\n",
    "        self.conv1 = torch.nn.Sequential(   # first layer\n",
    "            torch.nn.Conv2d(in_channels=1, out_channels=32, kernel_size=3, stride=1, padding=1),\n",
    "            torch.nn.ReLU(),\n",
    "            torch.nn.BatchNorm2d(num_features=32),\n",
    "            torch.nn.MaxPool2d(kernel_size=2, stride=2)\n",
    "        )\n",
    "        self.conv2 = torch.nn.Sequential(   #second layer\n",
    "            torch.nn.Conv2d(32, 64, 3, 1, 1),\n",
    "            torch.nn.ReLU(),\n",
    "            torch.nn.BatchNorm2d(num_features=64),\n",
    "            torch.nn.MaxPool2d(kernel_size=2, stride=2)\n",
    "        )\n",
    "        self.conv3 = torch.nn.Sequential(   #third layer\n",
    "            torch.nn.Conv2d(64, 128, 3, 1, 1),\n",
    "            torch.nn.ReLU()\n",
    "        )\n",
    "        self.conv4 = torch.nn.Sequential(   #forth layer\n",
    "            torch.nn.Conv2d(128, 256, 3, 1, 1),\n",
    "            torch.nn.ReLU()\n",
    "        )\n",
    "        self.conv5 = torch.nn.Sequential(   #fifth layer\n",
    "            torch.nn.Conv2d(256, 256, 3, 1, 1),\n",
    "            torch.nn.ReLU(),\n",
    "            torch.nn.BatchNorm2d(num_features=256),\n",
    "            torch.nn.MaxPool2d(2, 2)\n",
    "        )\n",
    "        # dense layer\n",
    "        self.dense = torch.nn.Sequential(\n",
    "            torch.nn.Linear(2304, 1024),\n",
    "            torch.nn.ReLU(),\n",
    "            torch.nn.Dropout(0.5),\n",
    "            torch.nn.Linear(1024, 512),\n",
    "            torch.nn.ReLU(),\n",
    "            torch.nn.Dropout(0.5),\n",
    "            torch.nn.Linear(512, 10),\n",
    "            # torch.nn.Softmax(dim=10)\n",
    "        )\n",
    "    # 正向传播    \n",
    "    def forward(self, x):\n",
    "        conv1_out = self.conv1(x)\n",
    "        conv2_out = self.conv2(conv1_out)\n",
    "        conv3_out = self.conv3(conv2_out)\n",
    "        conv4_out = self.conv4(conv3_out)\n",
    "        conv5_out = self.conv5(conv4_out)\n",
    "        res = conv5_out.view(-1, 2304)\n",
    "        out = self.dense(res)\n",
    "        return out"
   ]
  },
  {
   "cell_type": "code",
   "execution_count": 26,
   "metadata": {},
   "outputs": [
    {
     "name": "stdout",
     "output_type": "stream",
     "text": [
      "AlexNet(\n",
      "  (conv1): Sequential(\n",
      "    (0): Conv2d(1, 32, kernel_size=(3, 3), stride=(1, 1), padding=(1, 1))\n",
      "    (1): ReLU()\n",
      "    (2): BatchNorm2d(32, eps=1e-05, momentum=0.1, affine=True, track_running_stats=True)\n",
      "    (3): MaxPool2d(kernel_size=2, stride=2, padding=0, dilation=1, ceil_mode=False)\n",
      "  )\n",
      "  (conv2): Sequential(\n",
      "    (0): Conv2d(32, 64, kernel_size=(3, 3), stride=(1, 1), padding=(1, 1))\n",
      "    (1): ReLU()\n",
      "    (2): BatchNorm2d(64, eps=1e-05, momentum=0.1, affine=True, track_running_stats=True)\n",
      "    (3): MaxPool2d(kernel_size=2, stride=2, padding=0, dilation=1, ceil_mode=False)\n",
      "  )\n",
      "  (conv3): Sequential(\n",
      "    (0): Conv2d(64, 128, kernel_size=(3, 3), stride=(1, 1), padding=(1, 1))\n",
      "    (1): ReLU()\n",
      "  )\n",
      "  (conv4): Sequential(\n",
      "    (0): Conv2d(128, 256, kernel_size=(3, 3), stride=(1, 1), padding=(1, 1))\n",
      "    (1): ReLU()\n",
      "  )\n",
      "  (conv5): Sequential(\n",
      "    (0): Conv2d(256, 256, kernel_size=(3, 3), stride=(1, 1), padding=(1, 1))\n",
      "    (1): ReLU()\n",
      "    (2): BatchNorm2d(256, eps=1e-05, momentum=0.1, affine=True, track_running_stats=True)\n",
      "    (3): MaxPool2d(kernel_size=2, stride=2, padding=0, dilation=1, ceil_mode=False)\n",
      "  )\n",
      "  (dense): Sequential(\n",
      "    (0): Linear(in_features=2304, out_features=1024, bias=True)\n",
      "    (1): ReLU()\n",
      "    (2): Dropout(p=0.5, inplace=False)\n",
      "    (3): Linear(in_features=1024, out_features=512, bias=True)\n",
      "    (4): ReLU()\n",
      "    (5): Dropout(p=0.5, inplace=False)\n",
      "    (6): Linear(in_features=512, out_features=10, bias=True)\n",
      "  )\n",
      ")\n"
     ]
    }
   ],
   "source": [
    "net = AlexNet()\n",
    "print(net)"
   ]
  },
  {
   "cell_type": "code",
   "execution_count": 10,
   "metadata": {},
   "outputs": [],
   "source": [
    "import torchvision.datasets as datasets\n",
    "import torchvision.transforms as transforms\n",
    "trainset = datasets.MNIST(root='./mnist', train=True, download=False, transform=transforms.ToTensor())\n",
    "testset = datasets.MNIST(root='./mnist', train=False, download=False, transform=transforms.ToTensor())"
   ]
  },
  {
   "cell_type": "code",
   "execution_count": 29,
   "metadata": {},
   "outputs": [],
   "source": [
    "# super params\n",
    "batch_size = 100\n",
    "epoch = 20\n",
    "learning_rate = 0.001"
   ]
  },
  {
   "cell_type": "code",
   "execution_count": 13,
   "metadata": {},
   "outputs": [],
   "source": [
    "# create data loader\n",
    "train_loader = torch.utils.data.DataLoader(dataset=trainset, batch_size=batch_size, shuffle=True)\n",
    "test_loader = torch.utils.data.DataLoader(dataset=testset, batch_size=batch_size, shuffle=False)"
   ]
  },
  {
   "cell_type": "code",
   "execution_count": 30,
   "metadata": {},
   "outputs": [
    {
     "name": "stdout",
     "output_type": "stream",
     "text": [
      "start training\n",
      "[1, 93800] loss:0.0392\n",
      "[2, 93800] loss:0.0464\n",
      "[3, 93800] loss:0.0175\n",
      "[4, 93800] loss:0.0024\n",
      "[5, 93800] loss:0.0013\n",
      "[6, 93800] loss:0.0007\n",
      "[7, 93800] loss:0.0007\n",
      "[8, 93800] loss:0.0102\n",
      "[9, 93800] loss:0.0063\n",
      "[10, 93800] loss:0.0015\n",
      "[11, 93800] loss:0.0003\n",
      "[12, 93800] loss:0.0082\n",
      "[13, 93800] loss:0.0082\n",
      "[14, 93800] loss:0.0014\n",
      "[15, 93800] loss:0.0057\n",
      "[16, 93800] loss:0.0023\n",
      "[17, 93800] loss:0.0004\n",
      "[18, 93800] loss:0.0079\n",
      "[19, 93800] loss:0.0049\n",
      "[20, 93800] loss:0.0013\n",
      "finish training\n"
     ]
    }
   ],
   "source": [
    "import torch.optim as optim\n",
    "\n",
    "# define train function\n",
    "optimizer = optim.SGD(net.parameters(), lr=learning_rate, momentum=0.5)\n",
    "criterion = torch.nn.CrossEntropyLoss()\n",
    "device = torch.device('cuda:0' if torch.cuda.is_available() else 'cpu')\n",
    "net.to(device)\n",
    "print('start training')\n",
    "for e in range(epoch):\n",
    "    runing_loss = 0\n",
    "    batch_size = batch_size\n",
    "    \n",
    "    for idx, data in enumerate(train_loader):\n",
    "        inputs, labels = data\n",
    "        inputs, labels =inputs.to(device), labels.to(device)\n",
    "        \n",
    "        outputs = net(inputs)\n",
    "        loss = criterion(outputs, labels)\n",
    "        optimizer.zero_grad()\n",
    "        loss.backward()\n",
    "        optimizer.step()\n",
    "        \n",
    "    print('[%d, %5d] loss:%.4f'%(e+1, (idx+1)*100, loss.item()))\n",
    "print('finish training')"
   ]
  },
  {
   "cell_type": "code",
   "execution_count": 33,
   "metadata": {},
   "outputs": [
    {
     "name": "stdout",
     "output_type": "stream",
     "text": [
      "Accuracy is 99.13%\n"
     ]
    }
   ],
   "source": [
    "# save model\n",
    "torch.save(net, 'MNIST-alexNet.pkl')\n",
    "net = torch.load('MNIST-alexNet.pkl')\n",
    "with torch.no_grad():\n",
    "    correct = 0\n",
    "    total = 0\n",
    "    for data in test_loader:\n",
    "        images, labels = data\n",
    "        images, labels = images.to(device), labels.to(device)\n",
    "        \n",
    "        out = net(images)\n",
    "        _, prediction = torch.max(out.data, 1)\n",
    "        total += labels.size(0)\n",
    "        correct += (prediction == labels).sum().item()\n",
    "        \n",
    "    print('Accuracy is {}%'.format(100 * correct / total))"
   ]
  },
  {
   "cell_type": "code",
   "execution_count": null,
   "metadata": {},
   "outputs": [],
   "source": []
  }
 ],
 "metadata": {
  "kernelspec": {
   "display_name": "Python 3",
   "language": "python",
   "name": "python3"
  },
  "language_info": {
   "codemirror_mode": {
    "name": "ipython",
    "version": 3
   },
   "file_extension": ".py",
   "mimetype": "text/x-python",
   "name": "python",
   "nbconvert_exporter": "python",
   "pygments_lexer": "ipython3",
   "version": "3.7.3"
  }
 },
 "nbformat": 4,
 "nbformat_minor": 2
}
